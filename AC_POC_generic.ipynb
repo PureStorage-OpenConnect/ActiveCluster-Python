{
 "cells": [
  {
   "cell_type": "markdown",
   "metadata": {},
   "source": [
    "# Pure Storage Provisioning"
   ]
  },
  {
   "cell_type": "markdown",
   "metadata": {},
   "source": [
    "The goal of this notebook is to document the Python scripts used to proof how to use FlashArray and APIs during the block POC at Roche\n",
    "\n",
    "This notebook follow the process defined at the POC where hosts and volumes are created, mapped, snapshots are reated, copied to new volumes, etc. \n",
    "\n",
    "In this example we have two Flash Arrays and two ESX hosts to be mapped.\n",
    "\n",
    "Also here you have some documentation about Python module:\n",
    "\n",
    "* __[Documentation Overview](http://pure-storage-python-rest-client.readthedocs.io/en/latest/)__\n",
    "* __[Installation Instructions](http://pure-storage-python-rest-client.readthedocs.io/en/latest/installation.html)__\n",
    "* __[purestorage python API glossary](http://pure-storage-python-rest-client.readthedocs.io/en/latest/api.html)__\n",
    "* __[rest-client](https://github.com/purestorage/rest-client/blob/master/purestorage/purestorage.py)__\n",
    "\n"
   ]
  },
  {
   "cell_type": "markdown",
   "metadata": {},
   "source": [
    "## Flash Array Definitions & Conections"
   ]
  },
  {
   "cell_type": "markdown",
   "metadata": {},
   "source": [
    "Here you will be using your IP addresses, your array names, and your tokens. \n"
   ]
  },
  {
   "cell_type": "code",
   "execution_count": 16,
   "metadata": {},
   "outputs": [],
   "source": [
    "ArrayName1=\"se-emea-ebc-fam20\"\n",
    "IP1='10.225.112.80'\n",
    "token1='6f203f95-3539-xxxx-xxxx-2005c3c1468c'\n",
    "\n",
    "ArrayName2=\"se-emea-ebc-fam20\"\n",
    "IP2='10.225.112.180'\n",
    "token2='c070a7f6-b57e-xxxx-xxxx-f60a08fbebd8'\n",
    "\n",
    "\n",
    "volume_prefix = \"POD1::CCX-\"\n",
    "volume_size_default = \"16T\"\n",
    "threshold = 80"
   ]
  },
  {
   "cell_type": "markdown",
   "metadata": {},
   "source": []
  },
  {
   "cell_type": "code",
   "execution_count": 17,
   "metadata": {},
   "outputs": [],
   "source": [
    "import purestorage\n",
    "\n",
    "import urllib3\n",
    "# We're using a version that warns us about insecure requests, and we don't want to see that noise.\n",
    "urllib3.disable_warnings(urllib3.exceptions.InsecureRequestWarning)\n"
   ]
  },
  {
   "cell_type": "code",
   "execution_count": 18,
   "metadata": {},
   "outputs": [
    {
     "name": "stdout",
     "output_type": "stream",
     "text": [
      "connected to Array: 10.225.112.80 \n",
      "connected to Array: 10.225.112.180 \n"
     ]
    }
   ],
   "source": [
    "try:\n",
    "    array1 = purestorage.FlashArray(IP1, api_token=token1)\n",
    "\n",
    "except: \n",
    "    print (\"Issue connecting with Array: %s \" % IP1)\n",
    "    raise\n",
    "\n",
    "print (\"connected to Array: %s \" % IP1)\n",
    "\n",
    "    \n",
    "info1 = array1.get() \n",
    "if (info1[\"array_name\"] != ArrayName1):\n",
    "    print \"There is some mis-configuration because array name does not match\"\n",
    "    raise\n",
    "    \n",
    "try:\n",
    "    array2 = purestorage.FlashArray(IP2, api_token=token2)\n",
    "\n",
    "\n",
    "except: \n",
    "    print (\"Issue connecting with Array: %s \" % IP2)\n",
    "    raise\n",
    "    \n",
    "print (\"connected to Array: %s \" % IP2)\n",
    "\n",
    "info2 = array2.get() \n",
    "if (info2[\"array_name\"] != ArrayName2):\n",
    "    print \"There is some mis-configuration because array name does not match\"\n",
    "    raise\n"
   ]
  },
  {
   "cell_type": "markdown",
   "metadata": {},
   "source": [
    "## Host Creation"
   ]
  },
  {
   "cell_type": "code",
   "execution_count": 19,
   "metadata": {},
   "outputs": [],
   "source": [
    "HostAttributes = {}\n",
    "HostAttributes[\"personality\"] = 'esxi'\n",
    "\n",
    "HostGroupName = 'CLUSTERCC'\n",
    "\n",
    "#Define here the host names that belong to the host group\n",
    "HostNames = {}\n",
    "HostNames[\"hostlist\"] = ['CChost5at','CChost5bt']\n",
    "\n",
    "#Now insert the wwwn for each host\n",
    "WWN = {\"CChost5at\" : {\"wwnlist\" : [\"91:42:53:44:55:66:77:85\", \"92:43:54:55:66:77:88:95\"]},\n",
    "       \"CChost5bt\" : {\"wwnlist\" : [\"9A:42:53:44:55:66:77:85\", \"9B:43:54:55:66:77:88:95\"]}\n",
    "      }\n",
    "\n",
    "#Define where each host is located. Their prefered array will be the one in the same data center\n",
    "PreferedArrays = { \"CChost5a\" : {\"prefered array\" : \"IBERIALAB1\"},\n",
    "                   \"CChost5b\" : {\"prefered array\" : \"IBERIALAB2\"}\n",
    "      }\n"
   ]
  },
  {
   "cell_type": "markdown",
   "metadata": {},
   "source": [
    "Create new Hosts en each of the Flash Arrays"
   ]
  },
  {
   "cell_type": "markdown",
   "metadata": {},
   "source": [
    "Using the hosts we have previously defined, we are going to use each Flash Array connection to create a new host and set their Properties"
   ]
  },
  {
   "cell_type": "code",
   "execution_count": 20,
   "metadata": {},
   "outputs": [
    {
     "name": "stdout",
     "output_type": "stream",
     "text": [
      "Adding Host: CChost5at to Array: se-emea-ebc-fam20-a\n",
      "Setting Attributre: esxi on Host: CChost5at and Array: se-emea-ebc-fam20-a\n",
      "Adding Host: CChost5at to Array: se-emea-ebc-fam20-b\n",
      "Setting Attributre: esxi on Host: CChost5at and Array: se-emea-ebc-fam20-b\n",
      "Adding Host: CChost5bt to Array: se-emea-ebc-fam20-a\n",
      "Setting Attributre: esxi on Host: CChost5bt and Array: se-emea-ebc-fam20-a\n",
      "Adding Host: CChost5bt to Array: se-emea-ebc-fam20-b\n",
      "Setting Attributre: esxi on Host: CChost5bt and Array: se-emea-ebc-fam20-b\n"
     ]
    }
   ],
   "source": [
    "if HostNames is not None:   # we have a list of hosts to be connected\n",
    "    for host in HostNames[\"hostlist\"]:\n",
    "        wwnlist_host = WWN[host]\n",
    "                \n",
    "        try:\n",
    "            h_info = array1.create_host(host, **wwnlist_host)\n",
    "            print (\"Adding Host: %s to Array: %s\" % (host, ArrayName1))\n",
    "            h_info = array1.set_host(host, **HostAttributes) \n",
    "            print (\"Setting Attributre: %s on Host: %s and Array: %s\" % (HostAttributes[\"personality\"], host, ArrayName1))            \n",
    "                                     \n",
    "        except:\n",
    "            print (\"Issue adding host %s at array %s\" % (host, ArrayName1))\n",
    "            raise\n",
    "     \n",
    "        try:\n",
    "            h_info = array2.create_host(host, **wwnlist_host)\n",
    "            print (\"Adding Host: %s to Array: %s\" % (host, ArrayName2))\n",
    "            h_info = array2.set_host(host, **HostAttributes) \n",
    "            print (\"Setting Attributre: %s on Host: %s and Array: %s\" % (HostAttributes[\"personality\"], host, ArrayName2))            \n",
    "\n",
    "        except:\n",
    "            print (\"Issue adding host %s at array %s\" % (host, ArrayName2))\n",
    "            raise\n"
   ]
  },
  {
   "cell_type": "markdown",
   "metadata": {},
   "source": [
    "## Create a Host Group for Clustered Systems"
   ]
  },
  {
   "cell_type": "markdown",
   "metadata": {},
   "source": [
    "Now we add the hosts into the host group we have defined"
   ]
  },
  {
   "cell_type": "code",
   "execution_count": 21,
   "metadata": {},
   "outputs": [
    {
     "name": "stdout",
     "output_type": "stream",
     "text": [
      "Host Group: CLUSTERCC created in Array: se-emea-ebc-fam20-a\n",
      "Host Group: CLUSTERCC created in Array: se-emea-ebc-fam20-b\n"
     ]
    }
   ],
   "source": [
    "try:\n",
    "    hgroup = array1.create_hgroup(HostGroupName, **HostNames)\n",
    "    print (\"Host Group: %s created in Array: %s\" % (HostGroupName, ArrayName1))\n",
    "except:\n",
    "    print (\"Issue creating Host Group %s in Array %s\" % (HostGroupName, ArrayName1))\n",
    "    raise\n",
    " \n",
    "try:\n",
    "    hgroup = array2.create_hgroup(HostGroupName, **HostNames)\n",
    "    print (\"Host Group: %s created in Array: %s\" % (HostGroupName, ArrayName2))\n",
    "except:\n",
    "    print (\"Issue creating Host Group %s in Array %s\" % (HostGroupName, ArrayName2))\n",
    "    raise\n"
   ]
  },
  {
   "cell_type": "markdown",
   "metadata": {},
   "source": [
    "## Storage Provisioning"
   ]
  },
  {
   "cell_type": "markdown",
   "metadata": {},
   "source": [
    "\n",
    "First, we are going to define again the  variables that we may need for this provisioning\n",
    "\n",
    "If you have not done it already, execue the cell with the  Array Definition and the Cell to connect to the Flash Arrays"
   ]
  },
  {
   "cell_type": "code",
   "execution_count": 22,
   "metadata": {},
   "outputs": [],
   "source": [
    "\n",
    "Pod = 'POD1'\n",
    "\n",
    "LUNS_to_provision=['16T','16T']"
   ]
  },
  {
   "cell_type": "markdown",
   "metadata": {},
   "source": [
    "### Check Capacity"
   ]
  },
  {
   "cell_type": "markdown",
   "metadata": {},
   "source": [
    "Let´s make sure that each array do not pass the threshold defined. You can modify that value yourself and even avoid this section"
   ]
  },
  {
   "cell_type": "code",
   "execution_count": 23,
   "metadata": {},
   "outputs": [
    {
     "name": "stdout",
     "output_type": "stream",
     "text": [
      "Array: se-emea-ebc-fam20-a\n",
      "Total Capacity: 5693 GiB, Total Used: 3261 GiB\n",
      "Percentage capacity used: 57 percent\n",
      "Array: se-emea-ebc-fam20-b\n",
      "Total Capacity: 5691 GiB, Total Used: 1832 GiB\n",
      "Percentage capacity used: 32 percent\n"
     ]
    }
   ],
   "source": [
    "array_info1 = array1.get(space=\"true\")\n",
    "for info in array_info1:\n",
    "    capacity = info[\"capacity\"]/1024/1024/1024\n",
    "    total = (info[\"total\"]/1024/1024/1024)\n",
    "    utilization = float(100*total/capacity)\n",
    "    print (\"Array: %s\" % (ArrayName1))\n",
    "    print (\"Total Capacity: %d GiB, Total Used: %d GiB\" % (capacity, total))\n",
    "    print (\"Percentage capacity used: %d percent\" % (utilization))\n",
    "\n",
    "    \n",
    "if utilization > threshold:\n",
    "        print (\"Space utilization is %d, make sure you have enough space before creating volumes\" % utilization)\n",
    "        print (\"Volume not created\")\n",
    "        exit()\n",
    "          \n",
    "\n",
    "array_info2 = array2.get(space=\"true\")\n",
    "for info in array_info2:\n",
    "    capacity = info[\"capacity\"]/1024/1024/1024\n",
    "    total = (info[\"total\"]/1024/1024/1024)\n",
    "    utilization = float(100*total/capacity)\n",
    "    print (\"Array: %s\" % (ArrayName2))\n",
    "    print (\"Total Capacity: %d GiB, Total Used: %d GiB\" % (capacity, total))\n",
    "    print (\"Percentage capacity used: %d percent\" % (utilization))\n",
    "\n",
    "if utilization > threshold:\n",
    "        print (\"Space utilization is %d, make sure you have enough space before creating volumes\" % utilization)\n",
    "        print (\"Volume not created\")\n",
    "        exit()\n",
    "          "
   ]
  },
  {
   "cell_type": "markdown",
   "metadata": {},
   "source": [
    "### Create Volumes"
   ]
  },
  {
   "cell_type": "markdown",
   "metadata": {},
   "source": [
    "The voume name is going to be given based on the Host Group Name and in the last 4 numbers for the LUN ID. Therfore, we first create a volume using a temporry name, then get their ID, compose the new name and rename it.\n",
    "\n",
    "We store the name of the LUNs created into a list so we can map it later to the host group"
   ]
  },
  {
   "cell_type": "code",
   "execution_count": 24,
   "metadata": {},
   "outputs": [
    {
     "name": "stdout",
     "output_type": "stream",
     "text": [
      "Created new volume: POD1::CLUSTERCC-E4C7 of size 16T\n",
      "Created new volume: POD1::CLUSTERCC-E4C8 of size 16T\n"
     ]
    }
   ],
   "source": [
    "LUNS_created = []\n",
    "LUNS_copied = []\n",
    "\n",
    "TempName = Pod + \"::\" + \"Temporal\"\n",
    "\n",
    "for LUN in LUNS_to_provision:\n",
    "    try:\n",
    "        newvol = array1.create_volume(TempName, LUN)\n",
    "    except:\n",
    "        print \"Error while creating the volume\"\n",
    "        raise    \n",
    "    \n",
    "    serial = newvol[\"serial\"]\n",
    "    newname = Pod + \"::\" + HostGroupName + \"-\" + serial[-4:]\n",
    "    \n",
    "    rename = array1.rename_volume(TempName, newname)\n",
    "    \n",
    "    print (\"Created new volume: {} of size {}\").format(newname, LUN)\n",
    "\n",
    "    LUNS_created.append(newname)        "
   ]
  },
  {
   "cell_type": "markdown",
   "metadata": {},
   "source": [
    "### Connect the new volumes to the host group"
   ]
  },
  {
   "cell_type": "markdown",
   "metadata": {},
   "source": [
    "Now we take the list of the volumes created and we map it to the Host Group"
   ]
  },
  {
   "cell_type": "code",
   "execution_count": 25,
   "metadata": {},
   "outputs": [
    {
     "name": "stdout",
     "output_type": "stream",
     "text": [
      "Volume: POD1::CLUSTERCC-E4C7, conected to Host Group: CLUSTERCC from both arrays\n",
      "Volume: POD1::CLUSTERCC-E4C8, conected to Host Group: CLUSTERCC from both arrays\n"
     ]
    }
   ],
   "source": [
    "\n",
    "for volume in LUNS_created:\n",
    "\n",
    "    try:\n",
    "        array1.connect_hgroup(HostGroupName, volume)\n",
    "        array2.connect_hgroup(HostGroupName, volume)\n",
    "        print (\"Volume: %s, conected to Host Group: %s from both arrays\" % (volume, HostGroupName))\n",
    "    except:\n",
    "        print (\"There was some issue connecting Host Group: %s, with volume %s. Please check\" % (HostGroupName, volume))\n",
    "        raise\n"
   ]
  },
  {
   "cell_type": "markdown",
   "metadata": {},
   "source": [
    "## Resize a Volume"
   ]
  },
  {
   "cell_type": "markdown",
   "metadata": {},
   "source": [
    "Let´s increase the size of the volumes created previously"
   ]
  },
  {
   "cell_type": "code",
   "execution_count": 26,
   "metadata": {},
   "outputs": [],
   "source": [
    "NEW_SIZE='20T'\n",
    "\n",
    "for volume in LUNS_created:\n",
    "\n",
    "    try:\n",
    "        array1.extend_volume(volume, NEW_SIZE)\n",
    "    except:\n",
    "        print (\"There was some issue resizing volume %s . Please check\" % (volume))\n",
    "        raise"
   ]
  },
  {
   "cell_type": "markdown",
   "metadata": {},
   "source": [
    "## Create a Snapshot"
   ]
  },
  {
   "cell_type": "code",
   "execution_count": null,
   "metadata": {},
   "outputs": [],
   "source": []
  },
  {
   "cell_type": "code",
   "execution_count": 29,
   "metadata": {},
   "outputs": [
    {
     "name": "stdout",
     "output_type": "stream",
     "text": [
      "Snapshot:  POD1::CLUSTERCC-E4C7.1 from: POD1::CLUSTERCC-E4C7\n",
      "Snapshot:  POD1::CLUSTERCC-E4C7.2 from: POD1::CLUSTERCC-E4C7\n",
      "Snapshot:  POD1::CLUSTERCC-E4C7.3 from: POD1::CLUSTERCC-E4C7\n",
      "Snapshot:  POD1::CLUSTERCC-E4C8.1 from: POD1::CLUSTERCC-E4C8\n",
      "Snapshot:  POD1::CLUSTERCC-E4C8.2 from: POD1::CLUSTERCC-E4C8\n",
      "Snapshot:  POD1::CLUSTERCC-E4C8.3 from: POD1::CLUSTERCC-E4C8\n"
     ]
    }
   ],
   "source": [
    "for volume in LUNS_created:\n",
    "\n",
    "    try:\n",
    "        array1.create_snapshot(volume)\n",
    "    except:\n",
    "        print (\"There was some issue resizing volume %s . Please check\" % (volume))\n",
    "        raise\n",
    "        \n",
    "for volume in LUNS_created:\n",
    "    \n",
    "    list = array2.get_volume(volume, snap=True)\n",
    "    \n",
    "    for v in  list:\n",
    "        print \"Snapshot: \" , v[\"name\"], \"from:\", v[\"source\"]"
   ]
  },
  {
   "cell_type": "markdown",
   "metadata": {},
   "source": [
    "## Copy a Snapshot"
   ]
  },
  {
   "cell_type": "markdown",
   "metadata": {},
   "source": [
    "Let´s get the first snapshot for the first LUN an clone it"
   ]
  },
  {
   "cell_type": "code",
   "execution_count": 30,
   "metadata": {},
   "outputs": [],
   "source": [
    "volume = LUNS_created[0]\n",
    "\n",
    "list = array2.get_volume(volume, snap=True)\n",
    "\n",
    "snaptoclone = list[0][\"name\"]\n",
    "newname =  list[0][\"source\"]+\"-Copy\"\n",
    "\n",
    "array1.copy_volume(snaptoclone, newname)\n",
    "\n",
    "LUNS_copied.append(newname)    "
   ]
  },
  {
   "cell_type": "markdown",
   "metadata": {},
   "source": [
    "## Cleanup"
   ]
  },
  {
   "cell_type": "code",
   "execution_count": 31,
   "metadata": {},
   "outputs": [
    {
     "name": "stdout",
     "output_type": "stream",
     "text": [
      "Volume: POD1::CLUSTERCC-E4C7, disconected from Host Group: CLUSTERCC from both arrays\n",
      "Volume: POD1::CLUSTERCC-E4C8, disconected from Host Group: CLUSTERCC from both arrays\n"
     ]
    }
   ],
   "source": [
    "# Disconnect volume\n",
    "HN = {}\n",
    "HN[\"hostlist\"] = []\n",
    "\n",
    "for volume in LUNS_copied:    \n",
    "    try:\n",
    "        array1.destroy_volume(volume)\n",
    "    except:\n",
    "        print (\"We got some issues\")\n",
    "        \n",
    "        \n",
    "for volume in LUNS_created:    \n",
    "    try:\n",
    "        array1.disconnect_hgroup(HostGroupName, volume)\n",
    "        array2.disconnect_hgroup(HostGroupName, volume)\n",
    "        \n",
    "        array1.destroy_volume(volume)\n",
    "        \n",
    " \n",
    "        \n",
    "        print (\"Volume: %s, disconected from Host Group: %s from both arrays\" % (volume, HostGroupName))\n",
    "    except:\n",
    "        print (\"There was some issue disconnecting Host Group: %s, with volume %s. Please check\" % (HostGroupName, volume))\n",
    "        raise\n",
    "        \n",
    "        \n",
    "array1.set_hgroup(HostGroupName, **HN)\n",
    "array2.set_hgroup(HostGroupName, **HN)\n",
    "                \n",
    "array1.delete_hgroup(HostGroupName)\n",
    "array2.delete_hgroup(HostGroupName)\n",
    "        \n",
    "    \n",
    "if HostNames is not None:   # we have a list of hosts to be connected\n",
    "    for host in HostNames[\"hostlist\"]:\n",
    "        array1.delete_host(host)\n",
    "        array2.delete_host(host)\n",
    "        \n",
    "        \n",
    "        "
   ]
  },
  {
   "cell_type": "code",
   "execution_count": null,
   "metadata": {},
   "outputs": [],
   "source": []
  }
 ],
 "metadata": {
  "kernelspec": {
   "display_name": "Python 2",
   "language": "python",
   "name": "python2"
  },
  "language_info": {
   "codemirror_mode": {
    "name": "ipython",
    "version": 2
   },
   "file_extension": ".py",
   "mimetype": "text/x-python",
   "name": "python",
   "nbconvert_exporter": "python",
   "pygments_lexer": "ipython2",
   "version": "2.7.10"
  }
 },
 "nbformat": 4,
 "nbformat_minor": 2
}
