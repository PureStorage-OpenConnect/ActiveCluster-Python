{
 "cells": [
  {
   "cell_type": "markdown",
   "metadata": {},
   "source": [
    "# PureStorage REST API Demonstration for Active Cluster - Carlos Carrero\n",
    "\n",
    "#### We need a REST API Token - Let's get one for us to use for this demonstration.  Here are the steps:\n",
    "\n",
    "<ol>\n",
    "    <li>__Navigate to your FlashArray IP: https://xx.xx.xx.xx</li>\n",
    "    <li>__Navigate to the users section:  System -> Users -> API Tokens__</li>\n",
    "    <li>__Create an API token if you don't already have one__</li>\n",
    "</ol>\n",
    "\n",
    "\n",
    "\n",
    "<table>\n",
    "    <tr><td> __Hostname__ </td><td>lon-m20-a (one array of AC configuration at London)</td></tr>\n",
    "    <tr><td> __IP__ </td><td>https://xx.xx.xx.xx</td></tr>\n",
    "    <tr><td> __Token__ </td><td>bxxxxxxxb-4xxd-xxxx-xxxx-0xxxxxxxx8db</td></tr>\n",
    "</table>\n",
    "\n"
   ]
  },
  {
   "cell_type": "code",
   "execution_count": 65,
   "metadata": {},
   "outputs": [],
   "source": [
    "import json\n",
    "import pandas\n",
    "import requests\n",
    "import time\n",
    "\n",
    "import urllib3\n",
    "# We're using a version that warns us about insecure requests, and we don't want to see that noise.\n",
    "urllib3.disable_warnings(urllib3.exceptions.InsecureRequestWarning)\n",
    "%matplotlib inline\n",
    "\n",
    "# ENTER THE IP ADDRESS OF YOUR ARRAY AND THE TOKEN\n",
    "IP='10.222.10.10'\n",
    "token='bxxxxxxxb-4xxd-xxxx-xxxx-0xxxxxxxx8db'"
   ]
  },
  {
   "cell_type": "markdown",
   "metadata": {},
   "source": [
    "## Overview of PureStorage FlashArray Rest API basics"
   ]
  },
  {
   "cell_type": "markdown",
   "metadata": {},
   "source": [
    "#### FlashStache leverages a REST API wrapper called purestorage - it's the official python API for the purestorage REST service.\n",
    "\n",
    "#### You can find more information about this module at \n",
    "* __[Documentation Overview](http://pure-storage-python-rest-client.readthedocs.io/en/latest/)__\n",
    "* __[Installation Instructions](http://pure-storage-python-rest-client.readthedocs.io/en/latest/installation.html)__\n",
    "* __[purestorage python API glossary](http://pure-storage-python-rest-client.readthedocs.io/en/latest/api.html)__\n",
    "* __[rest-client](https://github.com/purestorage/rest-client/blob/master/purestorage/purestorage.py)__\n"
   ]
  },
  {
   "cell_type": "markdown",
   "metadata": {},
   "source": [
    "#### To import all of the api, the call is simple:"
   ]
  },
  {
   "cell_type": "code",
   "execution_count": 66,
   "metadata": {},
   "outputs": [],
   "source": [
    "import purestorage"
   ]
  },
  {
   "cell_type": "markdown",
   "metadata": {},
   "source": [
    "#### Now we don't have to manage the sessions or make explicit calls, we can use the API to handle the busywork for us.  For example, instead of our rest call for a session creation and storing that, we can use the array object"
   ]
  },
  {
   "cell_type": "code",
   "execution_count": 67,
   "metadata": {},
   "outputs": [
    {
     "data": {
      "text/plain": [
       "<purestorage.purestorage.FlashArray at 0x112f54910>"
      ]
     },
     "execution_count": 67,
     "metadata": {},
     "output_type": "execute_result"
    }
   ],
   "source": [
    "array = purestorage.FlashArray(IP, api_token=token)\n",
    "array"
   ]
  },
  {
   "cell_type": "markdown",
   "metadata": {},
   "source": [
    "#### Now instead of a rest call, we can use the basic .get() to pull the same information we got from the REST response"
   ]
  },
  {
   "cell_type": "code",
   "execution_count": 68,
   "metadata": {},
   "outputs": [
    {
     "data": {
      "text/plain": [
       "{u'array_name': u'lon-m20-a',\n",
       " u'id': u'1279d4fc-9e68-4912-bbe9-0308d2e4b79f',\n",
       " u'revision': u'201805172031+fbb0082',\n",
       " u'version': u'5.1.1'}"
      ]
     },
     "execution_count": 68,
     "metadata": {},
     "output_type": "execute_result"
    }
   ],
   "source": [
    "array_info = array.get()\n",
    "array_info"
   ]
  },
  {
   "cell_type": "markdown",
   "metadata": {},
   "source": [
    "#### How about our volume information?"
   ]
  },
  {
   "cell_type": "code",
   "execution_count": 69,
   "metadata": {},
   "outputs": [
    {
     "data": {
      "text/plain": [
       "{u'created': u'2018-01-03T11:42:53Z',\n",
       " u'name': u'z-citypod::z-lon-esx65-heartbeat1',\n",
       " u'serial': u'1279D4FC9E68491200011010',\n",
       " u'size': 53687091200,\n",
       " u'source': None}"
      ]
     },
     "execution_count": 69,
     "metadata": {},
     "output_type": "execute_result"
    }
   ],
   "source": [
    "volume_info = array.list_volumes()\n",
    "volume_info[1]"
   ]
  },
  {
   "cell_type": "code",
   "execution_count": 74,
   "metadata": {},
   "outputs": [
    {
     "name": "stdout",
     "output_type": "stream",
     "text": [
      "  Volumen: z-lon-win2016-a-localvol\n",
      "  Volumen: z-citypod::z-lon-esx65-heartbeat1\n",
      "  Volumen: z-citypod::z-lon-esx65-heartbeat2\n",
      "  Volumen: z-citypod::z-lon-esx65-activecluster\n",
      "  Volumen: z-citypod::z-lon-win2016-oracle\n",
      "  Volumen: z-citypod::z-lon-win2016-win-witness\n",
      "  Volumen: z-citypod::lon-win2016-a-sql-vol01\n",
      "  Volumen: z-citypod::lon-win2016-fileserver\n",
      "  Volumen: z-citypod::z-sql-failover-clst\n",
      "  Volumen: z-citypod::z-win2016-sql-data\n",
      "  Volumen: z-citypod::z-zfs-vol1\n",
      "  Volumen: z-citypod::z-zfs-vol2\n",
      "  Volumen: z-citypod::z-zfs-solaris-vol1\n",
      "  Volumen: z-citypod::z-win2016-sql-data02\n",
      "  Volumen: z-win2016-sql-log02\n",
      "  Volumen: z-citypod::z-win2016-sql-log02\n",
      "  Volumen: z-lon-pcopy-vol01\n",
      "  Volumen: z-lon-pcopy-vol02\n",
      "  Volumen: eg-test--win2016-async\n",
      "  Volumen: z-gl-01\n",
      "  Volumen: z-gl-02\n",
      "  Volumen: z-gl-03\n",
      "  Volumen: z-citypod::z-sol-test\n",
      "  Volumen: fred01\n",
      "  Volumen: z-citypod::fred02\n",
      "  Volumen: z-LMH-pod::z-LMH-AC-DS\n",
      "  Volumen: fredvol01\n",
      "  Volumen: duncanvol\n",
      "  Volumen: LMH133214234123\n",
      "  Volumen: z-LMH-pod::LMH133214234123asdas\n",
      "  Volumen: z-epic-rpt-vg01\n",
      "  Volumen: z-epic--rpt-vg02\n",
      "  Volumen: z-epic--rpt-vg03\n",
      "  Volumen: z-epic--rpt-vg04\n",
      "  Volumen: z-epic--rpt-vg05\n",
      "  Volumen: z-epic--rpt-vg06\n",
      "  Volumen: z-epic--sup1-vg02\n",
      "  Volumen: z-epic--sup1-vg03\n",
      "  Volumen: z-epic--sup1-vg04\n",
      "  Volumen: z-epic--sup1-vg05\n",
      "  Volumen: z-epic--sup1-vg06\n",
      "  Volumen: z-epic-sup1-vg01\n",
      "  Volumen: z-epic--tst-vg02\n",
      "  Volumen: z-epic--sup2-vg02\n",
      "  Volumen: z-epic--mst-vg03\n",
      "  Volumen: z-epic--mst-vg04\n",
      "  Volumen: z-epic--mst-vg05\n",
      "  Volumen: z-epic--mst-vg06\n",
      "  Volumen: z-epic-mst-vg01\n",
      "  Volumen: z-citypod::test-cw\n",
      "  Volumen: MashStorageVol\n",
      "  Volumen: Arsene-Wenger\n",
      "  Volumen: z-epic--mst-vg02\n",
      "  Volumen: z-epic--sup2-vg03\n",
      "  Volumen: prueba150\n",
      "  Volumen: clon150\n",
      "  Volumen: z-epic--ll-vg02\n",
      "  Volumen: z-epic--ll-vg03\n",
      "  Volumen: z-epic--ll-vg04\n",
      "  Volumen: z-epic--ll-vg05\n",
      "  Volumen: z-epic--ll-vg06\n",
      "  Volumen: z-epic-ll-vg01\n",
      "  Volumen: nickpod::nick\n",
      "  Volumen: prueba\n",
      "  Volumen: spie::lun01\n",
      "  Volumen: LMHTESTPOD::LMHTEST\n"
     ]
    }
   ],
   "source": [
    "for eachvol in volume_info:\n",
    "    volume_name = eachvol[\"name\"]\n",
    "    print \"  Volumen: {}\".format(volume_name)\n"
   ]
  },
  {
   "cell_type": "markdown",
   "metadata": {},
   "source": [
    "# Active Cluster: Now we are going to create a new volume and we are going to strech it into the two arrays mappint it to one ESX server in each site"
   ]
  },
  {
   "cell_type": "code",
   "execution_count": 82,
   "metadata": {},
   "outputs": [
    {
     "data": {
      "text/plain": [
       "{u'created': u'2018-06-03T17:58:49Z',\n",
       " u'name': u'vol1-cc',\n",
       " u'serial': u'1279D4FC9E6849120009D760',\n",
       " u'size': 10485760,\n",
       " u'source': None}"
      ]
     },
     "execution_count": 82,
     "metadata": {},
     "output_type": "execute_result"
    }
   ],
   "source": [
    "#Create a new volume\n",
    "vol = array.create_volume('vol1-cc', '10M')\n",
    "vol"
   ]
  },
  {
   "cell_type": "code",
   "execution_count": 28,
   "metadata": {},
   "outputs": [],
   "source": [
    "## Take a snapshot of the volume - just to proof the API"
   ]
  },
  {
   "cell_type": "code",
   "execution_count": 83,
   "metadata": {},
   "outputs": [
    {
     "data": {
      "text/plain": [
       "{u'created': u'2018-06-03T17:58:59Z',\n",
       " u'name': u'vol1-cc.1',\n",
       " u'serial': u'1279D4FC9E6849120009D761',\n",
       " u'size': 10485760,\n",
       " u'source': u'vol1-cc'}"
      ]
     },
     "execution_count": 83,
     "metadata": {},
     "output_type": "execute_result"
    }
   ],
   "source": [
    "snap1 = array.create_snapshot('vol1-cc')\n",
    "snap1"
   ]
  },
  {
   "cell_type": "code",
   "execution_count": 84,
   "metadata": {},
   "outputs": [
    {
     "data": {
      "text/plain": [
       "{u'created': u'2018-06-03T17:58:49Z',\n",
       " u'name': u'vol1-cc',\n",
       " u'serial': u'1279D4FC9E6849120009D760',\n",
       " u'size': 10485760,\n",
       " u'source': None}"
      ]
     },
     "execution_count": 84,
     "metadata": {},
     "output_type": "execute_result"
    }
   ],
   "source": [
    "vol = array.get_volume('vol1-cc')\n",
    "vol"
   ]
  },
  {
   "cell_type": "code",
   "execution_count": 85,
   "metadata": {},
   "outputs": [
    {
     "name": "stdout",
     "output_type": "stream",
     "text": [
      "Pod: z-citypod\n",
      "Pod: z-LMH-pod\n",
      "Pod: nickpod\n",
      "Pod: LMHTESTPOD\n",
      "Pod: testpod\n",
      "Pod: spie\n"
     ]
    }
   ],
   "source": [
    "# List available pods\n",
    "pods = array.list_pods()\n",
    "for p in pods:\n",
    "    print (\"Pod: {}\".format(p[\"name\"]))\n",
    "    \n"
   ]
  },
  {
   "cell_type": "code",
   "execution_count": null,
   "metadata": {},
   "outputs": [],
   "source": [
    "# Create test pod if it does not exists - rememberr the 6 Pod limit (also check there are no deleted pods as they also count)\n",
    "podtest = array.create_pod('testpod')\n",
    "podtest"
   ]
  },
  {
   "cell_type": "code",
   "execution_count": 87,
   "metadata": {},
   "outputs": [
    {
     "data": {
      "text/plain": [
       "{u'created': u'2018-06-03T17:58:49Z',\n",
       " u'name': u'testpod::vol1-cc',\n",
       " u'serial': u'1279D4FC9E6849120009D760',\n",
       " u'size': 10485760,\n",
       " u'source': None}"
      ]
     },
     "execution_count": 87,
     "metadata": {},
     "output_type": "execute_result"
    }
   ],
   "source": [
    "# Strech previous volume into the pod so it will be mirrored across the two arrays\n",
    "\n",
    "array.move_volume('vol1-cc', 'testpod')\n"
   ]
  },
  {
   "cell_type": "code",
   "execution_count": 88,
   "metadata": {},
   "outputs": [
    {
     "name": "stdout",
     "output_type": "stream",
     "text": [
      "Host: z-lon-win2016-b\n",
      "Host: z-lon-esx65-b\n",
      "Host: z-lon-esx65-a\n",
      "Host: z-lon-win2016-a\n",
      "Host: z-solaris\n",
      "Host: z-ca-mark\n",
      "Host: markmunich\n",
      "Host: z-lon-pcopy\n",
      "Host: cfrdemo\n",
      "Host: headithost\n",
      "Host: purestoragehost\n",
      "Host: maples\n"
     ]
    }
   ],
   "source": [
    "# Map the volume into each of the ESX hosts\n",
    "# List the hosts first\n",
    "\n",
    "hosts= array.list_hosts()\n",
    "for h in hosts:\n",
    "    print (\"Host: {}\".format(h[\"name\"]))"
   ]
  },
  {
   "cell_type": "code",
   "execution_count": 90,
   "metadata": {},
   "outputs": [
    {
     "data": {
      "text/plain": [
       "{u'lun': 5, u'name': u'z-lon-esx65-a', u'vol': u'testpod::vol1-cc'}"
      ]
     },
     "execution_count": 90,
     "metadata": {},
     "output_type": "execute_result"
    }
   ],
   "source": [
    "# Do the mapping\n",
    "\n",
    "array.connect_host(\"z-lon-esx65-b\", \"testpod::vol1-cc\")\n",
    "array.connect_host(\"z-lon-esx65-a\", \"testpod::vol1-cc\")\n"
   ]
  },
  {
   "cell_type": "code",
   "execution_count": null,
   "metadata": {},
   "outputs": [],
   "source": [
    "# Here I will continue with APIs for vCenter to creater a Data Store on the new Volume,\n",
    "# creater some VMs that use that DS and run some testing\n",
    "\n"
   ]
  },
  {
   "cell_type": "markdown",
   "metadata": {},
   "source": [
    "# CLEANUP - Let´s leave thing cleans after the demo"
   ]
  },
  {
   "cell_type": "code",
   "execution_count": 91,
   "metadata": {},
   "outputs": [
    {
     "data": {
      "text/plain": [
       "{u'name': u'z-lon-esx65-a', u'vol': u'testpod::vol1-cc'}"
      ]
     },
     "execution_count": 91,
     "metadata": {},
     "output_type": "execute_result"
    }
   ],
   "source": [
    "array.disconnect_host(\"z-lon-esx65-b\", \"testpod::vol1-cc\")\n",
    "array.disconnect_host(\"z-lon-esx65-a\", \"testpod::vol1-cc\")"
   ]
  },
  {
   "cell_type": "code",
   "execution_count": 92,
   "metadata": {},
   "outputs": [
    {
     "data": {
      "text/plain": [
       "{u'name': u'testpod::vol1-cc'}"
      ]
     },
     "execution_count": 92,
     "metadata": {},
     "output_type": "execute_result"
    }
   ],
   "source": [
    "array.destroy_volume('testpod::vol1-cc')"
   ]
  },
  {
   "cell_type": "code",
   "execution_count": 94,
   "metadata": {},
   "outputs": [
    {
     "data": {
      "text/plain": [
       "{u'name': u'testpod::vol1-cc'}"
      ]
     },
     "execution_count": 94,
     "metadata": {},
     "output_type": "execute_result"
    }
   ],
   "source": [
    "array.eradicate_volume('testpod::vol1-cc')"
   ]
  },
  {
   "cell_type": "code",
   "execution_count": null,
   "metadata": {},
   "outputs": [],
   "source": []
  }
 ],
 "metadata": {
  "kernelspec": {
   "display_name": "Python 2",
   "language": "python",
   "name": "python2"
  },
  "language_info": {
   "codemirror_mode": {
    "name": "ipython",
    "version": 2
   },
   "file_extension": ".py",
   "mimetype": "text/x-python",
   "name": "python",
   "nbconvert_exporter": "python",
   "pygments_lexer": "ipython2",
   "version": "2.7.10"
  }
 },
 "nbformat": 4,
 "nbformat_minor": 2
}
