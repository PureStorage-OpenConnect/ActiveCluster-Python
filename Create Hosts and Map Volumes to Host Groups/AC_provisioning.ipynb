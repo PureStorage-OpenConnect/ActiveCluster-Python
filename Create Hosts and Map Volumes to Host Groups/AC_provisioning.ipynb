{
 "cells": [
  {
   "cell_type": "markdown",
   "metadata": {},
   "source": [
    "# Host Conection, Host Group Creation and Volume Provisioning with Active Cluster"
   ]
  },
  {
   "cell_type": "markdown",
   "metadata": {},
   "source": [
    "![alt text](images/diagram.png \"Diagram\")"
   ]
  },
  {
   "cell_type": "markdown",
   "metadata": {},
   "source": [
    "The goal of this notebook is to document the Python scripts used to add new hosts into a Flash Array that is used with Active Cluster. This process involves the mapping of each host to each Flash Array and the creation of a new Host Group that will contain the new cluster.\n",
    "\n",
    "This is used when new clusters are added into Flash Array and with this script the full process is automated. This include tasks as setting the personality for the hosts.\n",
    "\n",
    "At the end, we will define the volumes that want to be created and that will also be automatically mapped to the host group.\n",
    "\n",
    "As seen above, we have two Flash Arrays and two ESX hosts to be mapped.\n",
    "\n",
    "Also here you have some documentation about Python module:\n",
    "\n",
    "* __[Documentation Overview](http://pure-storage-python-rest-client.readthedocs.io/en/latest/)__\n",
    "* __[Installation Instructions](http://pure-storage-python-rest-client.readthedocs.io/en/latest/installation.html)__\n",
    "* __[purestorage python API glossary](http://pure-storage-python-rest-client.readthedocs.io/en/latest/api.html)__\n",
    "* __[rest-client](https://github.com/purestorage/rest-client/blob/master/purestorage/purestorage.py)__\n",
    "\n"
   ]
  },
  {
   "cell_type": "markdown",
   "metadata": {},
   "source": [
    "## Flash Array Definitions"
   ]
  },
  {
   "cell_type": "markdown",
   "metadata": {},
   "source": [
    "This is the part you will have to change adn adapt to your environment. So here you will be using your IP addresses, your array names, and your tokens. \n",
    "\n",
    "In the Python scripts, this information is included in the definitions_yourarrays.py file"
   ]
  },
  {
   "cell_type": "code",
   "execution_count": 13,
   "metadata": {},
   "outputs": [],
   "source": [
    "ArrayName1=\"lon-m20-a\"\n",
    "IP1='x.x.x.x'\n",
    "token1='1234eafb-4a5d-c1da-d82c-0208b24ba8db'\n",
    "\n",
    "ArrayName2=\"lon-m20-b\"\n",
    "IP2='x.x.x.x'\n",
    "token2='123439b4-572b-b627-9ebf-ac2adef5334d'"
   ]
  },
  {
   "cell_type": "markdown",
   "metadata": {},
   "source": [
    "![alt text](images/arrays.png \"Diagram\")"
   ]
  },
  {
   "cell_type": "markdown",
   "metadata": {},
   "source": [
    "Next we have to define the hosts we want to add to the Flash Array Active Cluster. Here we include the host names, their WWN and their personality. \n",
    "\n",
    "This is included in the CLUSTER_yourcluster.py file in the python scripts examples.\n",
    "\n",
    "You just need to modify this with your own names, WWNs and personalities (if not ESX servers)"
   ]
  },
  {
   "cell_type": "code",
   "execution_count": 14,
   "metadata": {},
   "outputs": [],
   "source": [
    "HostAttributes = {}\n",
    "HostAttributes[\"personality\"] = 'esxi'\n",
    "\n",
    "HostGroupName = 'CLUSTERCC'\n",
    "\n",
    "#Define here the host names that belong to the host group\n",
    "HostNames = {}\n",
    "HostNames[\"hostlist\"] = ['CChost5a','CChost5b']\n",
    "\n",
    "#Now insert the wwwn for each host\n",
    "WWN = {\"CChost5a\" : {\"wwnlist\" : [\"91:42:33:44:55:66:77:85\", \"92:43:44:55:66:77:88:95\"]},\n",
    "       \"CChost5b\" : {\"wwnlist\" : [\"9A:42:33:44:55:66:77:85\", \"9B:43:44:55:66:77:88:95\"]}\n",
    "      }\n",
    "\n",
    "#Define where each host is located. Their prefered array will be the one in the same data center\n",
    "PreferedArrays = { \"CChost5a\" : {\"prefered array\" : \"lon-m20-a\"},\n",
    "                   \"CChost5b\" : {\"prefered array\" : \"lon-m20-b\"}\n",
    "      }\n"
   ]
  },
  {
   "cell_type": "markdown",
   "metadata": {},
   "source": [
    "![alt text](images/esx.png \"HOSTS\")"
   ]
  },
  {
   "cell_type": "markdown",
   "metadata": {},
   "source": [
    "Once we have defined our environment, we are going to go step by step describing what we are doing"
   ]
  },
  {
   "cell_type": "markdown",
   "metadata": {},
   "source": [
    "## Import Libraries"
   ]
  },
  {
   "cell_type": "markdown",
   "metadata": {},
   "source": [
    "Get the libraries we are going to need"
   ]
  },
  {
   "cell_type": "code",
   "execution_count": 15,
   "metadata": {},
   "outputs": [],
   "source": [
    "import purestorage\n",
    "\n",
    "import urllib3\n",
    "# We're using a version that warns us about insecure requests, and we don't want to see that noise.\n",
    "urllib3.disable_warnings(urllib3.exceptions.InsecureRequestWarning)\n"
   ]
  },
  {
   "cell_type": "markdown",
   "metadata": {},
   "source": [
    "## Connect to the Flash Arrays"
   ]
  },
  {
   "cell_type": "markdown",
   "metadata": {},
   "source": [
    "We are going to connect to the FAs and make sure that the IP match with the host name that is provided"
   ]
  },
  {
   "cell_type": "code",
   "execution_count": 16,
   "metadata": {},
   "outputs": [],
   "source": [
    "try:\n",
    "    array1 = purestorage.FlashArray(IP1, api_token=token1)\n",
    "\n",
    "except: \n",
    "    print (\"Issue connecting with Array: % \" % IP)\n",
    "    raise\n",
    "\n",
    "    \n",
    "info1 = array1.get() \n",
    "if (info1[\"array_name\"] != ArrayName1):\n",
    "    print \"There is some mis-configuration because array name does not match\"\n",
    "    raise\n",
    "    \n",
    "try:\n",
    "    array2 = purestorage.FlashArray(IP2, api_token=token2)\n",
    "\n",
    "except: \n",
    "    print (\"Issue connecting with Array: % \" % IP)\n",
    "    raise\n",
    "    \n",
    "    \n",
    "info2 = array2.get() \n",
    "if (info2[\"array_name\"] != ArrayName2):\n",
    "    print \"There is some mis-configuration because array name does not match\"\n",
    "    raise\n"
   ]
  },
  {
   "cell_type": "markdown",
   "metadata": {},
   "source": [
    "# Create new Hosts en each of the Flash Arrays"
   ]
  },
  {
   "cell_type": "markdown",
   "metadata": {},
   "source": [
    "Using the hosts we have previously defined, we are going to use each Flash Array connection to create a new host and set their Properties"
   ]
  },
  {
   "cell_type": "code",
   "execution_count": 17,
   "metadata": {},
   "outputs": [
    {
     "name": "stdout",
     "output_type": "stream",
     "text": [
      "Adding Host: CChost5a to Array: lon-m20-a\n",
      "Setting Attributre: esxi on Host: CChost5a and Array: lon-m20-a\n",
      "Adding Host: CChost5a to Array: lon-m20-b\n",
      "Setting Attributre: esxi on Host: CChost5a and Array: lon-m20-b\n",
      "Adding Host: CChost5b to Array: lon-m20-a\n",
      "Setting Attributre: esxi on Host: CChost5b and Array: lon-m20-a\n",
      "Adding Host: CChost5b to Array: lon-m20-b\n",
      "Setting Attributre: esxi on Host: CChost5b and Array: lon-m20-b\n"
     ]
    }
   ],
   "source": [
    "if HostNames is not None:   # we have a list of hosts to be connected\n",
    "    for host in HostNames[\"hostlist\"]:\n",
    "        wwnlist_host = WWN[host]\n",
    "                \n",
    "        try:\n",
    "            h_info = array1.create_host(host, **wwnlist_host)\n",
    "            print (\"Adding Host: %s to Array: %s\" % (host, ArrayName1))\n",
    "            h_info = array1.set_host(host, **HostAttributes) \n",
    "            print (\"Setting Attributre: %s on Host: %s and Array: %s\" % (HostAttributes[\"personality\"], host, ArrayName1))            \n",
    "                                     \n",
    "        except:\n",
    "            print (\"Issue adding host %s at array %s\" % (host, ArrayName1))\n",
    "            raise\n",
    "     \n",
    "        try:\n",
    "            h_info = array2.create_host(host, **wwnlist_host)\n",
    "            print (\"Adding Host: %s to Array: %s\" % (host, ArrayName2))\n",
    "            h_info = array2.set_host(host, **HostAttributes) \n",
    "            print (\"Setting Attributre: %s on Host: %s and Array: %s\" % (HostAttributes[\"personality\"], host, ArrayName2))            \n",
    "\n",
    "        except:\n",
    "            print (\"Issue adding host %s at array %s\" % (host, ArrayName2))\n",
    "            raise\n"
   ]
  },
  {
   "cell_type": "markdown",
   "metadata": {},
   "source": [
    "## Create the Host Group"
   ]
  },
  {
   "cell_type": "markdown",
   "metadata": {},
   "source": [
    "Now we add the hosts into the host group we have defined"
   ]
  },
  {
   "cell_type": "code",
   "execution_count": 18,
   "metadata": {},
   "outputs": [
    {
     "name": "stdout",
     "output_type": "stream",
     "text": [
      "Host Group: CLUSTERCC created in Array: lon-m20-a\n",
      "Host Group: CLUSTERCC created in Array: lon-m20-b\n"
     ]
    }
   ],
   "source": [
    "try:\n",
    "    hgroup = array1.create_hgroup(HostGroupName, **HostNames)\n",
    "    print (\"Host Group: %s created in Array: %s\" % (HostGroupName, ArrayName1))\n",
    "except:\n",
    "    print (\"Issue creating Host Group %s in Array %s\" % (HostGroupName, ArrayName1))\n",
    "    raise\n",
    " \n",
    "try:\n",
    "    hgroup = array2.create_hgroup(HostGroupName, **HostNames)\n",
    "    print (\"Host Group: %s created in Array: %s\" % (HostGroupName, ArrayName2))\n",
    "except:\n",
    "    print (\"Issue creating Host Group %s in Array %s\" % (HostGroupName, ArrayName2))\n",
    "    raise\n"
   ]
  },
  {
   "cell_type": "markdown",
   "metadata": {},
   "source": [
    "## Storage Provisioning"
   ]
  },
  {
   "cell_type": "markdown",
   "metadata": {},
   "source": [
    "This section correspond to the script create_volume_and_map_to_hostg.py script. We are going to split it into pieces in this notebook\n",
    "\n",
    "First, we are going to define again the  variables that we may need for this provisioning\n",
    "\n",
    "If you have not done it already, execue the cell with the  Array Definition and the Cell to connect to the Flash Arrays"
   ]
  },
  {
   "cell_type": "code",
   "execution_count": 19,
   "metadata": {},
   "outputs": [],
   "source": [
    "HostGroupName = 'CLUSTERCC'\n",
    "\n",
    "threshold = 80\n",
    "\n",
    "Pod = 'jspod'\n",
    "\n",
    "LUNS_to_provision=['30G','45G']"
   ]
  },
  {
   "cell_type": "markdown",
   "metadata": {},
   "source": [
    "## Check Capacity"
   ]
  },
  {
   "cell_type": "markdown",
   "metadata": {},
   "source": [
    "Let´s make sure that each array do not pass the threshold defined. You can modify that value yourself and even avoid this section"
   ]
  },
  {
   "cell_type": "code",
   "execution_count": 20,
   "metadata": {},
   "outputs": [
    {
     "name": "stdout",
     "output_type": "stream",
     "text": [
      "Array: lon-m20-a\n",
      "Total Capacity: 2858 GiB, Total Used: 503 GiB\n",
      "Percentage capacity used: 17 percent\n",
      "Array: lon-m20-b\n",
      "Total Capacity: 2858 GiB, Total Used: 482 GiB\n",
      "Percentage capacity used: 16 percent\n"
     ]
    }
   ],
   "source": [
    "array_info1 = array1.get(space=\"true\")\n",
    "for info in array_info1:\n",
    "    capacity = info[\"capacity\"]/1024/1024/1024\n",
    "    total = (info[\"total\"]/1024/1024/1024)\n",
    "    utilization = float(100*total/capacity)\n",
    "    print (\"Array: %s\" % (ArrayName1))\n",
    "    print (\"Total Capacity: %d GiB, Total Used: %d GiB\" % (capacity, total))\n",
    "    print (\"Percentage capacity used: %d percent\" % (utilization))\n",
    "\n",
    "    \n",
    "if utilization > threshold:\n",
    "        print (\"Space utilization is %d, make sure you have enough space before creating volumes\" % utilization)\n",
    "        print (\"Volume not created\")\n",
    "        exit()\n",
    "          \n",
    "\n",
    "array_info2 = array2.get(space=\"true\")\n",
    "for info in array_info2:\n",
    "    capacity = info[\"capacity\"]/1024/1024/1024\n",
    "    total = (info[\"total\"]/1024/1024/1024)\n",
    "    utilization = float(100*total/capacity)\n",
    "    print (\"Array: %s\" % (ArrayName2))\n",
    "    print (\"Total Capacity: %d GiB, Total Used: %d GiB\" % (capacity, total))\n",
    "    print (\"Percentage capacity used: %d percent\" % (utilization))\n",
    "\n",
    "if utilization > threshold:\n",
    "        print (\"Space utilization is %d, make sure you have enough space before creating volumes\" % utilization)\n",
    "        print (\"Volume not created\")\n",
    "        exit()\n",
    "          "
   ]
  },
  {
   "cell_type": "markdown",
   "metadata": {},
   "source": [
    "## Create Volumes"
   ]
  },
  {
   "cell_type": "markdown",
   "metadata": {},
   "source": [
    "The voume name is going to be given based on the Host Group Name and in the last 4 numbers for the LUN ID. Therfore, we first create a volume using a temporry name, then get their ID, compose the new name and rename it.\n",
    "\n",
    "We store the name of the LUNs created into a list so we can map it later to the host group"
   ]
  },
  {
   "cell_type": "code",
   "execution_count": 21,
   "metadata": {},
   "outputs": [
    {
     "name": "stdout",
     "output_type": "stream",
     "text": [
      "Created new volume: jspod::CLUSTERCC-1374 of size 30G\n",
      "Created new volume: jspod::CLUSTERCC-1375 of size 45G\n"
     ]
    }
   ],
   "source": [
    "LUNS_created = []\n",
    "\n",
    "TempName = Pod + \"::\" + \"Temporal\"\n",
    "\n",
    "for LUN in LUNS_to_provision:\n",
    "    try:\n",
    "        newvol = array1.create_volume(TempName, LUN)\n",
    "    except:\n",
    "        print \"Error while creating the volume\"\n",
    "        raise    \n",
    "    \n",
    "    serial = newvol[\"serial\"]\n",
    "    newname = Pod + \"::\" + HostGroupName + \"-\" + serial[-4:]\n",
    "    \n",
    "    rename = array1.rename_volume(TempName, newname)\n",
    "    \n",
    "    print (\"Created new volume: {} of size {}\").format(newname, LUN)\n",
    "\n",
    "    LUNS_created.append(newname)        "
   ]
  },
  {
   "cell_type": "markdown",
   "metadata": {},
   "source": [
    "## Connect the new volumes to the host group"
   ]
  },
  {
   "cell_type": "markdown",
   "metadata": {},
   "source": [
    "Now we take the list of the volumes created and we map it to the Host Group"
   ]
  },
  {
   "cell_type": "code",
   "execution_count": 22,
   "metadata": {},
   "outputs": [
    {
     "name": "stdout",
     "output_type": "stream",
     "text": [
      "Volume: jspod::CLUSTERCC-1374, conected to Host Group: CLUSTERCC from both arrays\n",
      "Volume: jspod::CLUSTERCC-1375, conected to Host Group: CLUSTERCC from both arrays\n"
     ]
    }
   ],
   "source": [
    "\n",
    "for volume in LUNS_created:\n",
    "\n",
    "    try:\n",
    "        array1.connect_hgroup(HostGroupName, volume)\n",
    "        array2.connect_hgroup(HostGroupName, volume)\n",
    "        print (\"Volume: %s, conected to Host Group: %s from both arrays\" % (volume, HostGroupName))\n",
    "    except:\n",
    "        print (\"There was some issue connecting Host Group: %s, with volume %s. Please check\" % (HostGroupName, volume))\n",
    "        raise\n"
   ]
  },
  {
   "cell_type": "markdown",
   "metadata": {},
   "source": [
    "## Verification"
   ]
  },
  {
   "cell_type": "markdown",
   "metadata": {},
   "source": [
    "We can take a look to eachof the Flash Arrays and make sure that the configurion has worked as expected\n",
    "\n",
    "Here we can see how the two volumes have been created:"
   ]
  },
  {
   "cell_type": "markdown",
   "metadata": {},
   "source": [
    "![alt text](images/fa1.png \"HOSTS\")"
   ]
  },
  {
   "cell_type": "markdown",
   "metadata": {},
   "source": [
    "How a volume is mapped to the Host Group"
   ]
  },
  {
   "cell_type": "markdown",
   "metadata": {},
   "source": [
    "![alt text](images/fa2.png \"HOSTS\")"
   ]
  },
  {
   "cell_type": "markdown",
   "metadata": {},
   "source": [
    "And how the Host Group has been created with the proper members and the two volumes have been mapped properly"
   ]
  },
  {
   "cell_type": "markdown",
   "metadata": {},
   "source": [
    "![alt text](images/fa3.png \"HOSTS\")"
   ]
  }
 ],
 "metadata": {
  "kernelspec": {
   "display_name": "Python 2",
   "language": "python",
   "name": "python2"
  },
  "language_info": {
   "codemirror_mode": {
    "name": "ipython",
    "version": 2
   },
   "file_extension": ".py",
   "mimetype": "text/x-python",
   "name": "python",
   "nbconvert_exporter": "python",
   "pygments_lexer": "ipython2",
   "version": "2.7.10"
  }
 },
 "nbformat": 4,
 "nbformat_minor": 2
}
